{
 "cells": [
  {
   "cell_type": "code",
   "execution_count": 381,
   "metadata": {},
   "outputs": [],
   "source": [
    "import numpy as np"
   ]
  },
  {
   "cell_type": "code",
   "execution_count": 382,
   "metadata": {},
   "outputs": [],
   "source": [
    "def load_tsp_file(file_path):\n",
    "    tsp_data = {}\n",
    "\n",
    "    with open(file_path, 'r') as file:\n",
    "        lines = file.readlines()\n",
    "\n",
    "    # Flag to indicate the start of the NODE_COORD_SECTION\n",
    "    start_loading = False\n",
    "\n",
    "    for line in lines:\n",
    "        # Strip leading and trailing whitespaces\n",
    "        line = line.strip()\n",
    "\n",
    "        # Check for the start of the NODE_COORD_SECTION\n",
    "        if line == \"NODE_COORD_SECTION\":\n",
    "            start_loading = True\n",
    "            continue\n",
    "\n",
    "        # Check for the end of the file\n",
    "        if line == \"EOF\":\n",
    "            break\n",
    "\n",
    "        if start_loading:\n",
    "            parts = line.split()\n",
    "            \n",
    "            # Extract node number, x-coordinate, and y-coordinate\n",
    "            node_number = int(parts[0])\n",
    "            x_coordinate = float(parts[1])\n",
    "            y_coordinate = float(parts[2])\n",
    "\n",
    "            # Store data in the dictionary\n",
    "            tsp_data[node_number] = np.array([x_coordinate, y_coordinate])\n",
    "\n",
    "    # Check if the dataset is as intuitive as it appears\n",
    "    nodes = set(tsp_data.keys())\n",
    "    highest_number = max(nodes)\n",
    "    missing_nodes = set(range(1, highest_number + 1)) - nodes\n",
    "\n",
    "    if missing_nodes:\n",
    "        print(f\"Note that not all numbers between 0 and {highest_number} are used as a node ID. Node(s) {missing_nodes} are missing.\")\n",
    "\n",
    "    return tsp_data"
   ]
  },
  {
   "cell_type": "code",
   "execution_count": 383,
   "metadata": {},
   "outputs": [],
   "source": [
    "def generate_solution(tsp_data):\n",
    "    # Make random order as a starting solution\n",
    "    return np.random.permutation(list(tsp_data.keys()))"
   ]
  },
  {
   "cell_type": "code",
   "execution_count": 384,
   "metadata": {},
   "outputs": [],
   "source": [
    "def get_score(tsp_data, solution):\n",
    "    # Calculate distance of a solution\n",
    "    distance = 0\n",
    "    coordinates = solution[0]\n",
    "    for city in solution[1:]:\n",
    "        next_coordinates = tsp_data[city]\n",
    "        distance += np.linalg.norm(coordinates - next_coordinates)\n",
    "        coordinates = next_coordinates.copy()\n",
    "\n",
    "    return distance"
   ]
  },
  {
   "cell_type": "code",
   "execution_count": 385,
   "metadata": {},
   "outputs": [],
   "source": [
    "def optimize(start_solution, tsp_data, iterations, mutate, accept, parameters):\n",
    "    \"\"\"\n",
    "    Optimize solution for traveling salesman problem according to chosen mutate and accept function\n",
    "    \"\"\" \n",
    "\n",
    "    solution = start_solution[:]\n",
    "    current_score = get_score(tsp_data, solution)\n",
    "    \n",
    "    # Do iterations\n",
    "    for i in range(iterations):\n",
    "\n",
    "        # Make new solution via chosen mutation function\n",
    "        new_solution = mutate(solution)\n",
    "        new_score = get_score(tsp_data, new_solution)\n",
    "\n",
    "        # Accept or deny new solution according to chosen acceptance function and corresponding parameters\n",
    "        if accept(current_score, new_score, parameters):\n",
    "            solution = new_solution[:]\n",
    "            current_score = new_score\n",
    "\n",
    "    return solution, current_score"
   ]
  },
  {
   "cell_type": "code",
   "execution_count": 386,
   "metadata": {},
   "outputs": [],
   "source": [
    "def swap(solution):\n",
    "    # Randomly choose two distinct indices\n",
    "    indices = np.random.choice(len(solution), size=2, replace=False)\n",
    "\n",
    "    new_solution = solution[:]\n",
    "\n",
    "    # Swap the elements at the selected indices\n",
    "    new_solution[indices[0]], new_solution[indices[1]] = new_solution[indices[1]], new_solution[indices[0]]\n",
    "\n",
    "    return new_solution"
   ]
  },
  {
   "cell_type": "code",
   "execution_count": 387,
   "metadata": {},
   "outputs": [],
   "source": [
    "def hillclimber(current_score, new_score, parameters):\n",
    "    # Hillclimber function, accept only better scores\n",
    "    return current_score > new_score\n"
   ]
  },
  {
   "cell_type": "code",
   "execution_count": 388,
   "metadata": {},
   "outputs": [
    {
     "name": "stdout",
     "output_type": "stream",
     "text": [
      "1368.3276706945123\n"
     ]
    }
   ],
   "source": [
    "file = 'eil51'\n",
    "\n",
    "file_path = f'TSP-Configurations/{file}.tsp.txt'\n",
    "tsp_data = load_tsp_file(file_path)\n",
    "\n",
    "start_solution = generate_solution(tsp_data)\n",
    "\n",
    "iterations = 2000\n",
    "mutate = swap\n",
    "accept = hillclimber\n",
    "parameters = []\n",
    "best_solution, score = optimize(start_solution, tsp_data, iterations, mutate, accept, parameters)\n",
    "\n",
    "print(score)\n"
   ]
  }
 ],
 "metadata": {
  "kernelspec": {
   "display_name": "Python 3",
   "language": "python",
   "name": "python3"
  },
  "language_info": {
   "codemirror_mode": {
    "name": "ipython",
    "version": 3
   },
   "file_extension": ".py",
   "mimetype": "text/x-python",
   "name": "python",
   "nbconvert_exporter": "python",
   "pygments_lexer": "ipython3",
   "version": "3.11.6"
  }
 },
 "nbformat": 4,
 "nbformat_minor": 2
}
